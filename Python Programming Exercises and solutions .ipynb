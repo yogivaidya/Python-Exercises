{
 "cells": [
  {
   "cell_type": "markdown",
   "metadata": {},
   "source": [
    "WAP to check the given number is even or not"
   ]
  },
  {
   "cell_type": "code",
   "execution_count": 1,
   "metadata": {},
   "outputs": [
    {
     "name": "stdout",
     "output_type": "stream",
     "text": [
      "Enter a number5\n",
      "The number is Odd\n"
     ]
    }
   ],
   "source": [
    "number=input(\"Enter a number\")\n",
    "X=int(number)%2\n",
    "if X == 0:\n",
    "    print(\"The number is Even\")\n",
    "else:\n",
    "    print(\"The number is Odd\")"
   ]
  },
  {
   "cell_type": "markdown",
   "metadata": {},
   "source": [
    "WAP to Convert the temperature in degree centigrade to Fahrenheit."
   ]
  },
  {
   "cell_type": "code",
   "execution_count": 2,
   "metadata": {},
   "outputs": [
    {
     "name": "stdout",
     "output_type": "stream",
     "text": [
      "Enter temperature in Centigrade: 30\n",
      " Temperature in Fahrenheit is:  86.0\n"
     ]
    }
   ],
   "source": [
    "t=input('Enter temperature in Centigrade: ')\n",
    "f=(9*(int(t))/5)+32\n",
    "print(\" Temperature in Fahrenheit is: \", f)"
   ]
  },
  {
   "cell_type": "markdown",
   "metadata": {},
   "source": [
    "WAP to find the area of triangle whose sides are given"
   ]
  },
  {
   "cell_type": "code",
   "execution_count": 3,
   "metadata": {},
   "outputs": [
    {
     "name": "stdout",
     "output_type": "stream",
     "text": [
      "Enter the lenght of side a: 4.0\n",
      "Enter the lenght of side b: 3.0\n",
      "Enter the lenght of side c: 6.0\n",
      " Area of the triangle is : 5.332682251925386\n"
     ]
    }
   ],
   "source": [
    "import math\n",
    "a=float(input(\"Enter the lenght of side a: \"))\n",
    "b=float(input(\"Enter the lenght of side b: \"))\n",
    "c=float(input(\"Enter the lenght of side c: \"))\n",
    "s=(a+b+c)/2\n",
    "area= math.sqrt(s*(s-a)*(s-b)*(s-c))\n",
    "print(\" Area of the triangle is :\" , area)"
   ]
  },
  {
   "cell_type": "markdown",
   "metadata": {},
   "source": [
    "WAP to find out of the average of a set of integers"
   ]
  },
  {
   "cell_type": "code",
   "execution_count": 4,
   "metadata": {},
   "outputs": [
    {
     "name": "stdout",
     "output_type": "stream",
     "text": [
      "ENter the count of numbers: 5\n",
      "Enter an integer: 3\n",
      "Enter an integer: 8\n",
      "Enter an integer: 6\n",
      "Enter an integer: 7\n",
      "Enter an integer: 4\n",
      " The average is :  5.6\n"
     ]
    }
   ],
   "source": [
    "count = int(int(input(\"ENter the count of numbers: \")))\n",
    "i=0\n",
    "sum=0\n",
    "for i in range(count):\n",
    "    x=int(input(\"Enter an integer: \"))\n",
    "    sum = sum+x\n",
    "avg=sum/count\n",
    "print(\" The average is : \", avg)"
   ]
  },
  {
   "cell_type": "markdown",
   "metadata": {},
   "source": [
    "WAP to find the product od a set of real numbers"
   ]
  },
  {
   "cell_type": "code",
   "execution_count": 5,
   "metadata": {},
   "outputs": [
    {
     "name": "stdout",
     "output_type": "stream",
     "text": [
      "Enter the number of real number: 4\n",
      "Enter a real number: 3.2\n",
      "Enter a real number: 4.4\n",
      "Enter a real number: 5.1\n",
      "Enter a real number: 3.8\n",
      " The product of the real number is 272.8704\n"
     ]
    }
   ],
   "source": [
    "i=0\n",
    "product=1\n",
    "count= int(input(\"Enter the number of real number: \"))\n",
    "for i in range(count):\n",
    "    x=float(input(\"Enter a real number: \"))\n",
    "    product =product * x\n",
    "print(\" The product of the real number is\", product)"
   ]
  },
  {
   "cell_type": "markdown",
   "metadata": {},
   "source": [
    "WAP to find the cirumference and area of a circle with given redius."
   ]
  },
  {
   "cell_type": "code",
   "execution_count": 6,
   "metadata": {},
   "outputs": [
    {
     "name": "stdout",
     "output_type": "stream",
     "text": [
      "Input the redius of the circle: 4.3\n",
      " The circumference of the circle is:  27.01769682087222\n",
      " The area of the circle is:  58.088048164875275\n"
     ]
    }
   ],
   "source": [
    "import math\n",
    "r=float(input(\"Input the redius of the circle: \"))\n",
    "c=2*math.pi*r\n",
    "area= math.pi*r*r\n",
    "print(\" The circumference of the circle is: \", c)\n",
    "print(\" The area of the circle is: \", area)"
   ]
  },
  {
   "cell_type": "markdown",
   "metadata": {},
   "source": [
    "WAP to check given integer is a multiple of 5"
   ]
  },
  {
   "cell_type": "code",
   "execution_count": 7,
   "metadata": {},
   "outputs": [
    {
     "name": "stdout",
     "output_type": "stream",
     "text": [
      "Enter an integer: 55\n",
      "55 is a multiple of 5\n"
     ]
    }
   ],
   "source": [
    "num= int(input(\"Enter an integer: \"))\n",
    "if(num%5==0):\n",
    "    print(num, \"is a multiple of 5\")\n",
    "else:\n",
    "    print(num, \"is not a multiple of 5\")"
   ]
  },
  {
   "cell_type": "markdown",
   "metadata": {},
   "source": [
    "WAP to check whether the given integer is a multiple of both 5 and 7"
   ]
  },
  {
   "cell_type": "code",
   "execution_count": 8,
   "metadata": {},
   "outputs": [
    {
     "name": "stdout",
     "output_type": "stream",
     "text": [
      "Enter an integer: 23\n",
      "23 is not a multiple of 5 and 7\n"
     ]
    }
   ],
   "source": [
    "num= int(input(\"Enter an integer: \"))\n",
    "if((num%5==0)and(num%7==0)):\n",
    "    print(num, \"is a multiple of 5 and 7\")\n",
    "else:\n",
    "    print(num, \"is not a multiple of 5 and 7\")"
   ]
  },
  {
   "cell_type": "markdown",
   "metadata": {},
   "source": [
    "WAP to find the average of 10 numbers using while loop. "
   ]
  },
  {
   "cell_type": "code",
   "execution_count": 9,
   "metadata": {},
   "outputs": [
    {
     "name": "stdout",
     "output_type": "stream",
     "text": [
      "Enter a real number: 2\n",
      "Enter a real number: 3\n",
      "Enter a real number: 4\n",
      "Enter a real number: 2\n",
      "Enter a real number: 7\n",
      "Enter a real number: 8\n",
      "Enter a real number: 4\n",
      "Enter a real number: 3\n",
      "Enter a real number: 5\n",
      "Enter a real number: 7.8\n",
      " Average is:  4.58\n"
     ]
    }
   ],
   "source": [
    "count=0\n",
    "sum=0.0\n",
    "while(count<10):\n",
    "    number= float(input(\"Enter a real number: \"))\n",
    "    count = count+1\n",
    "    sum= sum+number\n",
    "avg = sum/10;\n",
    "print(\" Average is: \",avg)"
   ]
  },
  {
   "cell_type": "markdown",
   "metadata": {},
   "source": [
    "WAP to display the given integer in reverse manner"
   ]
  },
  {
   "cell_type": "code",
   "execution_count": 10,
   "metadata": {},
   "outputs": [
    {
     "name": "stdout",
     "output_type": "stream",
     "text": [
      "Enter a postive integer: 547\n",
      "745\n"
     ]
    }
   ],
   "source": [
    "number=int(input(\"Enter a postive integer: \"))\n",
    "rev=0\n",
    "while(number!=0):\n",
    "    digit= number%10\n",
    "    rev =(rev*10)+digit\n",
    "    number= number//10\n",
    "print(rev)"
   ]
  },
  {
   "cell_type": "markdown",
   "metadata": {},
   "source": [
    "WAP to find the geometric mean of n numbers"
   ]
  },
  {
   "cell_type": "code",
   "execution_count": 11,
   "metadata": {},
   "outputs": [
    {
     "name": "stdout",
     "output_type": "stream",
     "text": [
      "Enter the number of values: 6\n",
      "Enter the real number: 3\n",
      "Enter the real number: 2\n",
      "Enter the real number: 6\n",
      "Enter the real number: 4\n",
      "Enter the real number: 5.7\n",
      "Enter the real number: 2.2\n",
      " The gepmetric mean is : 3.4896082215011255\n"
     ]
    }
   ],
   "source": [
    "c=0\n",
    "p=1.0\n",
    "count = int(input(\"Enter the number of values: \"))\n",
    "while(c<count):\n",
    "    x= float(input(\"Enter the real number: \"))\n",
    "    c=c+1\n",
    "    p=p*x\n",
    "gm= pow(p,1.0/count)\n",
    "print(\" The gepmetric mean is :\", gm)"
   ]
  },
  {
   "cell_type": "markdown",
   "metadata": {},
   "source": [
    "WAP to find the sum of the digits of an integer using while loop"
   ]
  },
  {
   "cell_type": "code",
   "execution_count": 13,
   "metadata": {},
   "outputs": [
    {
     "name": "stdout",
     "output_type": "stream",
     "text": [
      "Enter an integer: 357\n",
      " Sum of digits is:  15\n"
     ]
    }
   ],
   "source": [
    "sum=0\n",
    "number=int(input(\"Enter an integer: \"))\n",
    "while(number!=0):\n",
    "    digit=number%10\n",
    "    sum= sum+digit\n",
    "    number=number//10\n",
    "print(\" Sum of digits is: \", sum)"
   ]
  },
  {
   "cell_type": "markdown",
   "metadata": {},
   "source": [
    "WAP to display all multiples of 3 within range 10 to 50"
   ]
  },
  {
   "cell_type": "code",
   "execution_count": 14,
   "metadata": {},
   "outputs": [
    {
     "name": "stdout",
     "output_type": "stream",
     "text": [
      "12\n",
      "15\n",
      "18\n",
      "21\n",
      "24\n",
      "27\n",
      "30\n",
      "33\n",
      "36\n",
      "39\n",
      "42\n",
      "45\n",
      "48\n"
     ]
    }
   ],
   "source": [
    "for i in range(10,50):\n",
    "    if(i%3==0):\n",
    "        print(i)"
   ]
  },
  {
   "cell_type": "markdown",
   "metadata": {},
   "source": [
    "WAP to display all integers within the range 100-200 whose sum of digits is an even number"
   ]
  },
  {
   "cell_type": "code",
   "execution_count": 15,
   "metadata": {},
   "outputs": [
    {
     "name": "stdout",
     "output_type": "stream",
     "text": [
      "101\n",
      "103\n",
      "105\n",
      "107\n",
      "109\n",
      "110\n",
      "112\n",
      "114\n",
      "116\n",
      "118\n",
      "121\n",
      "123\n",
      "125\n",
      "127\n",
      "129\n",
      "130\n",
      "132\n",
      "134\n",
      "136\n",
      "138\n",
      "141\n",
      "143\n",
      "145\n",
      "147\n",
      "149\n",
      "150\n",
      "152\n",
      "154\n",
      "156\n",
      "158\n",
      "161\n",
      "163\n",
      "165\n",
      "167\n",
      "169\n",
      "170\n",
      "172\n",
      "174\n",
      "176\n",
      "178\n",
      "181\n",
      "183\n",
      "185\n",
      "187\n",
      "189\n",
      "190\n",
      "192\n",
      "194\n",
      "196\n",
      "198\n"
     ]
    }
   ],
   "source": [
    "for i in range(100,200):\n",
    "    num=i\n",
    "    sum=0\n",
    "    while(num!=0):\n",
    "        digit=num%10\n",
    "        sum=sum+digit\n",
    "        num=num//10\n",
    "    if(sum%2==0):\n",
    "        print(i)"
   ]
  },
  {
   "cell_type": "markdown",
   "metadata": {},
   "source": [
    "WAP to check whether the given integer is a prime number or not"
   ]
  },
  {
   "cell_type": "code",
   "execution_count": 17,
   "metadata": {},
   "outputs": [
    {
     "name": "stdout",
     "output_type": "stream",
     "text": [
      "Enter the integer: 23\n",
      "23 is a prime number\n"
     ]
    }
   ],
   "source": [
    "num= int(input('Enter the integer: '))\n",
    "isprime=1\n",
    "for i in range(2,num//2):\n",
    "    if(num%i==0):\n",
    "        isprime=0\n",
    "        break\n",
    "if(isprime==1):\n",
    "    print(num, \"is a prime number\")\n",
    "else:\n",
    "    print(num, \" is not a prime number\")"
   ]
  },
  {
   "cell_type": "markdown",
   "metadata": {},
   "source": [
    "WAP to generate the prime numbers from 1 to N"
   ]
  },
  {
   "cell_type": "code",
   "execution_count": 18,
   "metadata": {},
   "outputs": [
    {
     "name": "stdout",
     "output_type": "stream",
     "text": [
      "Enter the range: 6\n",
      "1\n",
      "2\n",
      "3\n",
      "5\n"
     ]
    }
   ],
   "source": [
    "num=int(input(\"Enter the range: \"))\n",
    "for n in range(1,num):\n",
    "    for i in range(2,n):\n",
    "        if(n%i==0):\n",
    "            break\n",
    "    else:\n",
    "        print(n)"
   ]
  },
  {
   "cell_type": "markdown",
   "metadata": {},
   "source": [
    "WAP to find the roots of a quadratic equation"
   ]
  },
  {
   "cell_type": "code",
   "execution_count": 30,
   "metadata": {},
   "outputs": [
    {
     "name": "stdout",
     "output_type": "stream",
     "text": [
      "Enter the first coefficient: 4\n",
      "Enter the second coefficient: 7\n",
      "Enter the third coefficient: 2\n",
      "The roots are real and distinct.\n",
      "The root1 is:  -0.3596117967977924\n",
      "The root2 is:  -1.3903882032022077\n"
     ]
    }
   ],
   "source": [
    "import math\n",
    "a = float(input(\"Enter the first coefficient: \"))\n",
    "b = float(input(\"Enter the second coefficient: \"))\n",
    "c = float(input(\"Enter the third coefficient: \"))\n",
    "if (a!=0.0):\n",
    "    d=(b*b)-(4*a*c) \n",
    "    if (d==0.0):\n",
    "        print(\"The roots are real and equal.\") \n",
    "        r = -b/(2*a)\n",
    "        print(\"The roots are \", r,\"and\", r)\n",
    "    elif(d>0.0):\n",
    "        print(\"The roots are real and distinct.\")\n",
    "        r1 = (-b+(math.sqrt(d)))/(2*a) \n",
    "        r2 = (-b-(math.sqrt(d)))/(2*a)\n",
    "        print(\"The root1 is: \", r1)\n",
    "        print(\"The root2 is: \", r2)\n",
    "    else:\n",
    "        print(\"The roots are imaginary.\")\n",
    "        rp = -b/(2*a) \n",
    "        ip = math.sqrt(-d)/(2*a)\n",
    "        print(\"The root1 is: \", rp, \"+ i\",ip)\n",
    "        print(\"The root2 is: \", rp, \"- i\",ip)\n",
    "else:\n",
    "    print(\"Not a quadratic equation.\")"
   ]
  },
  {
   "cell_type": "markdown",
   "metadata": {},
   "source": [
    "WAP to print the numbers from a given number n till 0 using recursion."
   ]
  },
  {
   "cell_type": "code",
   "execution_count": 31,
   "metadata": {},
   "outputs": [
    {
     "name": "stdout",
     "output_type": "stream",
     "text": [
      "8\n",
      "7\n",
      "6\n",
      "5\n",
      "4\n",
      "3\n",
      "2\n",
      "1\n"
     ]
    }
   ],
   "source": [
    "def print_tell_zero(n):\n",
    "    if(n==0):\n",
    "        return\n",
    "    print(n)\n",
    "    n=n-1\n",
    "    print_tell_zero(n)\n",
    "print_tell_zero(8)"
   ]
  },
  {
   "cell_type": "markdown",
   "metadata": {},
   "source": [
    "WAP to find the factorial of a number using recrsion"
   ]
  },
  {
   "cell_type": "code",
   "execution_count": 33,
   "metadata": {},
   "outputs": [
    {
     "name": "stdout",
     "output_type": "stream",
     "text": [
      "Enter an integer: 5\n",
      " The factorial of 5  is: 120\n"
     ]
    }
   ],
   "source": [
    "def fact(n):\n",
    "    if n==1:\n",
    "        f=1\n",
    "    else:\n",
    "        f= n*fact(n-1)\n",
    "    return f\n",
    "num= int(input(\"Enter an integer: \"))\n",
    "result= fact(num)\n",
    "print(\" The factorial of\", num, \" is:\", result)"
   ]
  },
  {
   "cell_type": "markdown",
   "metadata": {},
   "source": [
    "WAP to display the sum of n numbers using a list"
   ]
  },
  {
   "cell_type": "code",
   "execution_count": 1,
   "metadata": {},
   "outputs": [
    {
     "name": "stdout",
     "output_type": "stream",
     "text": [
      "How many numbers: 3\n",
      " Enter Number2\n",
      " Enter Number3\n",
      " Enter Number5\n",
      " Sum of numbers in the given list is : 10\n"
     ]
    }
   ],
   "source": [
    "num=[]\n",
    "numbers=int(input('How many numbers: '))\n",
    "for n in range(numbers):\n",
    "    x=int(input(' Enter Number'))\n",
    "    num.append(x)\n",
    "print(\" Sum of numbers in the given list is :\", sum(num))"
   ]
  },
  {
   "cell_type": "markdown",
   "metadata": {},
   "source": [
    "WAP to implement linear search"
   ]
  },
  {
   "cell_type": "code",
   "execution_count": 2,
   "metadata": {},
   "outputs": [
    {
     "name": "stdout",
     "output_type": "stream",
     "text": [
      "Enter the number to be found out: 7\n",
      "Successful search, the element is found at postion 2\n"
     ]
    }
   ],
   "source": [
    "numbers=[4,2,7,1,8,3,6]\n",
    "f=0\n",
    "x=int(input('Enter the number to be found out: '))\n",
    "for i in range(len(numbers)):\n",
    "    if (x==numbers[i]):\n",
    "        print('Successful search, the element is found at postion' , i)\n",
    "        f=1\n",
    "        break\n",
    "if(f==0):\n",
    "    print(\"Oops! Search unsccessful\")"
   ]
  },
  {
   "cell_type": "markdown",
   "metadata": {},
   "source": [
    "WAP to find the odd numbers in an array"
   ]
  },
  {
   "cell_type": "code",
   "execution_count": 11,
   "metadata": {},
   "outputs": [
    {
     "name": "stdout",
     "output_type": "stream",
     "text": [
      " The number of odd numbers in the list are:  4\n"
     ]
    }
   ],
   "source": [
    "numbers=[8,3,1,6,2,4,5,9]\n",
    "count=0\n",
    "for i in range(len(numbers)):\n",
    "    if(numbers[i]%2!=0):\n",
    "        count=count+1\n",
    "print(\" The number of odd numbers in the list are: \", count)"
   ]
  },
  {
   "cell_type": "markdown",
   "metadata": {},
   "source": [
    "WAP to find largest number in a list wihout using bulit-in functions"
   ]
  },
  {
   "cell_type": "code",
   "execution_count": 12,
   "metadata": {},
   "outputs": [
    {
     "name": "stdout",
     "output_type": "stream",
     "text": [
      " The largest element is 9 which is found at positon 5\n"
     ]
    }
   ],
   "source": [
    "numbers=[3,8,1,7,2,9,5,4]\n",
    "big=numbers[0]\n",
    "position=0\n",
    "for i in range(len(numbers)):\n",
    "    if (numbers[i]>big):\n",
    "        big=numbers[i]\n",
    "        position=i\n",
    "print(\" The largest element is\",big,\"which is found at positon\", position)"
   ]
  },
  {
   "cell_type": "markdown",
   "metadata": {},
   "source": [
    "WAP to insert a number to any position in list"
   ]
  },
  {
   "cell_type": "code",
   "execution_count": 13,
   "metadata": {},
   "outputs": [
    {
     "name": "stdout",
     "output_type": "stream",
     "text": [
      "[3, 4, 1, 9, 6, 2, 8]\n",
      "Enter the number to be inserted: 12\n",
      "Enter the position: 3\n",
      "[3, 4, 1, 12, 9, 6, 2, 8]\n"
     ]
    }
   ],
   "source": [
    "numbers=[3,4,1,9,6,2,8]\n",
    "print(numbers)\n",
    "x=int(input('Enter the number to be inserted: '))\n",
    "y=int(input('Enter the position: '))\n",
    "numbers.insert(y,x)\n",
    "print(numbers)"
   ]
  },
  {
   "cell_type": "markdown",
   "metadata": {},
   "source": [
    "WAP to delete an element from a list by index"
   ]
  },
  {
   "cell_type": "code",
   "execution_count": 14,
   "metadata": {},
   "outputs": [
    {
     "name": "stdout",
     "output_type": "stream",
     "text": [
      "[3, 4, 1, 9, 6, 2, 8]\n",
      "Enter the number of the element to be deleted: 3\n",
      "[3, 4, 1, 6, 2, 8]\n"
     ]
    }
   ],
   "source": [
    "numbers=[3,4,1,9,6,2,8]\n",
    "print(numbers)\n",
    "x=int(input('Enter the number of the element to be deleted: '))\n",
    "numbers.pop(x)\n",
    "print(numbers)\n"
   ]
  },
  {
   "cell_type": "markdown",
   "metadata": {},
   "source": [
    "WAP to check whether a string is palindrome or not"
   ]
  },
  {
   "cell_type": "code",
   "execution_count": 18,
   "metadata": {},
   "outputs": [
    {
     "name": "stdout",
     "output_type": "stream",
     "text": [
      " Enter the string: Palindrome\n",
      " The string is not Palindrome\n"
     ]
    }
   ],
   "source": [
    "def rev(inputString):\n",
    "    return inputString[::-1]\n",
    "def isPalindrome(inputString):\n",
    "    reverseString = rev(inputString)\n",
    "    if (inputString == reverseString):\n",
    "        return True\n",
    "    return False\n",
    "s=input(\" Enter the string: \")\n",
    "result=isPalindrome(s)\n",
    "if result==1:\n",
    "    print(\" The string is Palindrome\")\n",
    "else:\n",
    "    print(\" The string is not Palindrome\")"
   ]
  },
  {
   "cell_type": "markdown",
   "metadata": {},
   "source": [
    "WAP to print all the items in a dictionary"
   ]
  },
  {
   "cell_type": "code",
   "execution_count": 1,
   "metadata": {},
   "outputs": [
    {
     "name": "stdout",
     "output_type": "stream",
     "text": [
      "John : ['8592970000', 'john@xyzmail.com']\n",
      "Bob : ['7994888000', 'bob@xymail.com']\n",
      "Tom : ['9749552647', 'tom@xyzmail.com']\n"
     ]
    }
   ],
   "source": [
    "phone_book={'John':['8592970000','john@xyzmail.com'],\n",
    "            'Bob':['7994888000','bob@xymail.com'],\n",
    "            'Tom':['9749552647','tom@xyzmail.com']\n",
    "           }\n",
    "for k,v in phone_book.items():\n",
    "    print(k, \":\", v)"
   ]
  },
  {
   "cell_type": "markdown",
   "metadata": {},
   "source": [
    "WAP to check lwap year"
   ]
  },
  {
   "cell_type": "code",
   "execution_count": 1,
   "metadata": {},
   "outputs": [
    {
     "name": "stdout",
     "output_type": "stream",
     "text": [
      "Enter the year: 2020\n",
      "2020  is a leap year\n"
     ]
    }
   ],
   "source": [
    "year = int(input(\"Enter the year: \"))\n",
    "if (year% 4) == 0:\n",
    "    if (year % 100) == 0:\n",
    "        if (year % 400)==0:\n",
    "            print(year, \" is a leap year\")\n",
    "        else:\n",
    "            print(year, \" is not a leap year\")\n",
    "    else:\n",
    "        print(year, \" is a leap year\")\n",
    "else:\n",
    "    print(year, \" is not a leap year\")"
   ]
  },
  {
   "cell_type": "markdown",
   "metadata": {},
   "source": [
    "WAP to find the Nth term in a Fibonacci series using recursion."
   ]
  },
  {
   "cell_type": "code",
   "execution_count": 2,
   "metadata": {},
   "outputs": [
    {
     "name": "stdout",
     "output_type": "stream",
     "text": [
      "8\n"
     ]
    }
   ],
   "source": [
    "def Fib(n):\n",
    "    if n<0:\n",
    "        print(\"The input is incorrect.\")\n",
    "    elif n==1:\n",
    "        return 0\n",
    "    elif n==2:\n",
    "        return 1\n",
    "    else:\n",
    "        return Fib(n-1)+Fib(n-2)\n",
    "print(Fib(7))\n",
    "    "
   ]
  },
  {
   "cell_type": "markdown",
   "metadata": {},
   "source": [
    "WAP print Fibonacci series using iteration."
   ]
  },
  {
   "cell_type": "code",
   "execution_count": 4,
   "metadata": {},
   "outputs": [
    {
     "name": "stdout",
     "output_type": "stream",
     "text": [
      "Enter the number of terms in the sequence: 8\n",
      "0 1 1 2 3 5 8 13 "
     ]
    }
   ],
   "source": [
    "a= 0\n",
    "b=1\n",
    "n=int(input(\"Enter the number of terms in the sequence: \"))\n",
    "print(a,b, end= \" \")\n",
    "while(n-2):\n",
    "    c=a+b\n",
    "    a,b=b,c\n",
    "    print(c,end=\" \")\n",
    "    n=n-1"
   ]
  },
  {
   "cell_type": "markdown",
   "metadata": {},
   "source": [
    "WAP to implement a calculator to do basic operations"
   ]
  },
  {
   "cell_type": "code",
   "execution_count": 7,
   "metadata": {},
   "outputs": [
    {
     "name": "stdout",
     "output_type": "stream",
     "text": [
      "Enter two numbers\n",
      "20\n",
      "10\n",
      "Enter the operation +,-,/,*\n",
      "*\n",
      "200\n"
     ]
    }
   ],
   "source": [
    "def add(x,y):\n",
    "    print(x+y)\n",
    "def subtract(x,y):\n",
    "    print(x-y)\n",
    "def mutiply(x,y):\n",
    "    print(x*y)\n",
    "def divide(x,y):\n",
    "    print(x/y)\n",
    "print(\"Enter two numbers\")\n",
    "n1=input()\n",
    "n2= input()\n",
    "print(\"Enter the operation +,-,/,*\")\n",
    "op=input()\n",
    "if op==\"+\":\n",
    "    add(int(n1),int(n2))\n",
    "elif op==\"-\":\n",
    "    subtract(int(n1),int(n2))\n",
    "elif op==\"*\":\n",
    "    mutiply(int(n1),int(n2))\n",
    "elif op==\"/\":\n",
    "    divide(int(n1),int(n2))\n",
    "else:\n",
    "    print(\" Invalid entry\")"
   ]
  }
 ],
 "metadata": {
  "kernelspec": {
   "display_name": "Python 3",
   "language": "python",
   "name": "python3"
  },
  "language_info": {
   "codemirror_mode": {
    "name": "ipython",
    "version": 3
   },
   "file_extension": ".py",
   "mimetype": "text/x-python",
   "name": "python",
   "nbconvert_exporter": "python",
   "pygments_lexer": "ipython3",
   "version": "3.8.3"
  }
 },
 "nbformat": 4,
 "nbformat_minor": 4
}
